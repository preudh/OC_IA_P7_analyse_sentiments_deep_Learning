{
 "cells": [
  {
   "metadata": {},
   "cell_type": "markdown",
   "source": "### Acquisition des données et préparation des données",
   "id": "6f5ad96818d18e72"
  },
  {
   "metadata": {
    "ExecuteTime": {
     "end_time": "2024-10-15T16:29:55.612957Z",
     "start_time": "2024-10-15T16:29:55.599970Z"
    }
   },
   "cell_type": "code",
   "source": [
    "import os\n",
    "import pandas as pd\n",
    "import numpy as np\n",
    "import matplotlib.pyplot as plt\n",
    "import seaborn as sns\n"
   ],
   "id": "490dd11efd97288",
   "outputs": [],
   "execution_count": 154
  },
  {
   "metadata": {},
   "cell_type": "markdown",
   "source": "",
   "id": "194fcb1fb3fc96f8"
  },
  {
   "metadata": {
    "ExecuteTime": {
     "end_time": "2024-10-15T16:29:55.659963Z",
     "start_time": "2024-10-15T16:29:55.642960Z"
    }
   },
   "cell_type": "code",
   "source": [
    "# Importation des données\n",
    "# Fichier csv contenant les données chemin relatif, le dossier data est au même niveau que le notebook\n",
    "file_path = os.path.join(\"..\", \"data\", \"training.1600000.processed.noemoticon.csv\")\n"
   ],
   "id": "f42cee4ee11b080d",
   "outputs": [],
   "execution_count": 155
  },
  {
   "metadata": {
    "ExecuteTime": {
     "end_time": "2024-10-15T16:29:59.101956Z",
     "start_time": "2024-10-15T16:29:55.723957Z"
    }
   },
   "cell_type": "code",
   "source": [
    "# Chargement des données with UnicodeDecodeError: 'utf-8' codec can't decode bytes in position 232719-232720: invalid continuation byte\n",
    "data = pd.read_csv(file_path, encoding='latin-1', header=None)"
   ],
   "id": "db266dadfedd1a05",
   "outputs": [],
   "execution_count": 156
  },
  {
   "metadata": {
    "ExecuteTime": {
     "end_time": "2024-10-15T16:29:59.133960Z",
     "start_time": "2024-10-15T16:29:59.119961Z"
    }
   },
   "cell_type": "code",
   "source": [
    "# Affichage des 10 premières lignes\n",
    "data.head(20)"
   ],
   "id": "6dcc2ae272167147",
   "outputs": [
    {
     "data": {
      "text/plain": [
       "    0           1                             2         3                4  \\\n",
       "0   0  1467810369  Mon Apr 06 22:19:45 PDT 2009  NO_QUERY  _TheSpecialOne_   \n",
       "1   0  1467810672  Mon Apr 06 22:19:49 PDT 2009  NO_QUERY    scotthamilton   \n",
       "2   0  1467810917  Mon Apr 06 22:19:53 PDT 2009  NO_QUERY         mattycus   \n",
       "3   0  1467811184  Mon Apr 06 22:19:57 PDT 2009  NO_QUERY          ElleCTF   \n",
       "4   0  1467811193  Mon Apr 06 22:19:57 PDT 2009  NO_QUERY           Karoli   \n",
       "5   0  1467811372  Mon Apr 06 22:20:00 PDT 2009  NO_QUERY         joy_wolf   \n",
       "6   0  1467811592  Mon Apr 06 22:20:03 PDT 2009  NO_QUERY          mybirch   \n",
       "7   0  1467811594  Mon Apr 06 22:20:03 PDT 2009  NO_QUERY             coZZ   \n",
       "8   0  1467811795  Mon Apr 06 22:20:05 PDT 2009  NO_QUERY  2Hood4Hollywood   \n",
       "9   0  1467812025  Mon Apr 06 22:20:09 PDT 2009  NO_QUERY          mimismo   \n",
       "10  0  1467812416  Mon Apr 06 22:20:16 PDT 2009  NO_QUERY   erinx3leannexo   \n",
       "11  0  1467812579  Mon Apr 06 22:20:17 PDT 2009  NO_QUERY     pardonlauren   \n",
       "12  0  1467812723  Mon Apr 06 22:20:19 PDT 2009  NO_QUERY             TLeC   \n",
       "13  0  1467812771  Mon Apr 06 22:20:19 PDT 2009  NO_QUERY  robrobbierobert   \n",
       "14  0  1467812784  Mon Apr 06 22:20:20 PDT 2009  NO_QUERY      bayofwolves   \n",
       "15  0  1467812799  Mon Apr 06 22:20:20 PDT 2009  NO_QUERY       HairByJess   \n",
       "16  0  1467812964  Mon Apr 06 22:20:22 PDT 2009  NO_QUERY   lovesongwriter   \n",
       "17  0  1467813137  Mon Apr 06 22:20:25 PDT 2009  NO_QUERY         armotley   \n",
       "18  0  1467813579  Mon Apr 06 22:20:31 PDT 2009  NO_QUERY       starkissed   \n",
       "19  0  1467813782  Mon Apr 06 22:20:34 PDT 2009  NO_QUERY        gi_gi_bee   \n",
       "\n",
       "                                                    5  \n",
       "0   @switchfoot http://twitpic.com/2y1zl - Awww, t...  \n",
       "1   is upset that he can't update his Facebook by ...  \n",
       "2   @Kenichan I dived many times for the ball. Man...  \n",
       "3     my whole body feels itchy and like its on fire   \n",
       "4   @nationwideclass no, it's not behaving at all....  \n",
       "5                       @Kwesidei not the whole crew   \n",
       "6                                         Need a hug   \n",
       "7   @LOLTrish hey  long time no see! Yes.. Rains a...  \n",
       "8                @Tatiana_K nope they didn't have it   \n",
       "9                           @twittera que me muera ?   \n",
       "10        spring break in plain city... it's snowing   \n",
       "11                         I just re-pierced my ears   \n",
       "12  @caregiving I couldn't bear to watch it.  And ...  \n",
       "13  @octolinz16 It it counts, idk why I did either...  \n",
       "14  @smarrison i would've been the first, but i di...  \n",
       "15  @iamjazzyfizzle I wish I got to watch it with ...  \n",
       "16  Hollis' death scene will hurt me severely to w...  \n",
       "17                               about to file taxes   \n",
       "18  @LettyA ahh ive always wanted to see rent  lov...  \n",
       "19  @FakerPattyPattz Oh dear. Were you drinking ou...  "
      ],
      "text/html": [
       "<div>\n",
       "<style scoped>\n",
       "    .dataframe tbody tr th:only-of-type {\n",
       "        vertical-align: middle;\n",
       "    }\n",
       "\n",
       "    .dataframe tbody tr th {\n",
       "        vertical-align: top;\n",
       "    }\n",
       "\n",
       "    .dataframe thead th {\n",
       "        text-align: right;\n",
       "    }\n",
       "</style>\n",
       "<table border=\"1\" class=\"dataframe\">\n",
       "  <thead>\n",
       "    <tr style=\"text-align: right;\">\n",
       "      <th></th>\n",
       "      <th>0</th>\n",
       "      <th>1</th>\n",
       "      <th>2</th>\n",
       "      <th>3</th>\n",
       "      <th>4</th>\n",
       "      <th>5</th>\n",
       "    </tr>\n",
       "  </thead>\n",
       "  <tbody>\n",
       "    <tr>\n",
       "      <th>0</th>\n",
       "      <td>0</td>\n",
       "      <td>1467810369</td>\n",
       "      <td>Mon Apr 06 22:19:45 PDT 2009</td>\n",
       "      <td>NO_QUERY</td>\n",
       "      <td>_TheSpecialOne_</td>\n",
       "      <td>@switchfoot http://twitpic.com/2y1zl - Awww, t...</td>\n",
       "    </tr>\n",
       "    <tr>\n",
       "      <th>1</th>\n",
       "      <td>0</td>\n",
       "      <td>1467810672</td>\n",
       "      <td>Mon Apr 06 22:19:49 PDT 2009</td>\n",
       "      <td>NO_QUERY</td>\n",
       "      <td>scotthamilton</td>\n",
       "      <td>is upset that he can't update his Facebook by ...</td>\n",
       "    </tr>\n",
       "    <tr>\n",
       "      <th>2</th>\n",
       "      <td>0</td>\n",
       "      <td>1467810917</td>\n",
       "      <td>Mon Apr 06 22:19:53 PDT 2009</td>\n",
       "      <td>NO_QUERY</td>\n",
       "      <td>mattycus</td>\n",
       "      <td>@Kenichan I dived many times for the ball. Man...</td>\n",
       "    </tr>\n",
       "    <tr>\n",
       "      <th>3</th>\n",
       "      <td>0</td>\n",
       "      <td>1467811184</td>\n",
       "      <td>Mon Apr 06 22:19:57 PDT 2009</td>\n",
       "      <td>NO_QUERY</td>\n",
       "      <td>ElleCTF</td>\n",
       "      <td>my whole body feels itchy and like its on fire</td>\n",
       "    </tr>\n",
       "    <tr>\n",
       "      <th>4</th>\n",
       "      <td>0</td>\n",
       "      <td>1467811193</td>\n",
       "      <td>Mon Apr 06 22:19:57 PDT 2009</td>\n",
       "      <td>NO_QUERY</td>\n",
       "      <td>Karoli</td>\n",
       "      <td>@nationwideclass no, it's not behaving at all....</td>\n",
       "    </tr>\n",
       "    <tr>\n",
       "      <th>5</th>\n",
       "      <td>0</td>\n",
       "      <td>1467811372</td>\n",
       "      <td>Mon Apr 06 22:20:00 PDT 2009</td>\n",
       "      <td>NO_QUERY</td>\n",
       "      <td>joy_wolf</td>\n",
       "      <td>@Kwesidei not the whole crew</td>\n",
       "    </tr>\n",
       "    <tr>\n",
       "      <th>6</th>\n",
       "      <td>0</td>\n",
       "      <td>1467811592</td>\n",
       "      <td>Mon Apr 06 22:20:03 PDT 2009</td>\n",
       "      <td>NO_QUERY</td>\n",
       "      <td>mybirch</td>\n",
       "      <td>Need a hug</td>\n",
       "    </tr>\n",
       "    <tr>\n",
       "      <th>7</th>\n",
       "      <td>0</td>\n",
       "      <td>1467811594</td>\n",
       "      <td>Mon Apr 06 22:20:03 PDT 2009</td>\n",
       "      <td>NO_QUERY</td>\n",
       "      <td>coZZ</td>\n",
       "      <td>@LOLTrish hey  long time no see! Yes.. Rains a...</td>\n",
       "    </tr>\n",
       "    <tr>\n",
       "      <th>8</th>\n",
       "      <td>0</td>\n",
       "      <td>1467811795</td>\n",
       "      <td>Mon Apr 06 22:20:05 PDT 2009</td>\n",
       "      <td>NO_QUERY</td>\n",
       "      <td>2Hood4Hollywood</td>\n",
       "      <td>@Tatiana_K nope they didn't have it</td>\n",
       "    </tr>\n",
       "    <tr>\n",
       "      <th>9</th>\n",
       "      <td>0</td>\n",
       "      <td>1467812025</td>\n",
       "      <td>Mon Apr 06 22:20:09 PDT 2009</td>\n",
       "      <td>NO_QUERY</td>\n",
       "      <td>mimismo</td>\n",
       "      <td>@twittera que me muera ?</td>\n",
       "    </tr>\n",
       "    <tr>\n",
       "      <th>10</th>\n",
       "      <td>0</td>\n",
       "      <td>1467812416</td>\n",
       "      <td>Mon Apr 06 22:20:16 PDT 2009</td>\n",
       "      <td>NO_QUERY</td>\n",
       "      <td>erinx3leannexo</td>\n",
       "      <td>spring break in plain city... it's snowing</td>\n",
       "    </tr>\n",
       "    <tr>\n",
       "      <th>11</th>\n",
       "      <td>0</td>\n",
       "      <td>1467812579</td>\n",
       "      <td>Mon Apr 06 22:20:17 PDT 2009</td>\n",
       "      <td>NO_QUERY</td>\n",
       "      <td>pardonlauren</td>\n",
       "      <td>I just re-pierced my ears</td>\n",
       "    </tr>\n",
       "    <tr>\n",
       "      <th>12</th>\n",
       "      <td>0</td>\n",
       "      <td>1467812723</td>\n",
       "      <td>Mon Apr 06 22:20:19 PDT 2009</td>\n",
       "      <td>NO_QUERY</td>\n",
       "      <td>TLeC</td>\n",
       "      <td>@caregiving I couldn't bear to watch it.  And ...</td>\n",
       "    </tr>\n",
       "    <tr>\n",
       "      <th>13</th>\n",
       "      <td>0</td>\n",
       "      <td>1467812771</td>\n",
       "      <td>Mon Apr 06 22:20:19 PDT 2009</td>\n",
       "      <td>NO_QUERY</td>\n",
       "      <td>robrobbierobert</td>\n",
       "      <td>@octolinz16 It it counts, idk why I did either...</td>\n",
       "    </tr>\n",
       "    <tr>\n",
       "      <th>14</th>\n",
       "      <td>0</td>\n",
       "      <td>1467812784</td>\n",
       "      <td>Mon Apr 06 22:20:20 PDT 2009</td>\n",
       "      <td>NO_QUERY</td>\n",
       "      <td>bayofwolves</td>\n",
       "      <td>@smarrison i would've been the first, but i di...</td>\n",
       "    </tr>\n",
       "    <tr>\n",
       "      <th>15</th>\n",
       "      <td>0</td>\n",
       "      <td>1467812799</td>\n",
       "      <td>Mon Apr 06 22:20:20 PDT 2009</td>\n",
       "      <td>NO_QUERY</td>\n",
       "      <td>HairByJess</td>\n",
       "      <td>@iamjazzyfizzle I wish I got to watch it with ...</td>\n",
       "    </tr>\n",
       "    <tr>\n",
       "      <th>16</th>\n",
       "      <td>0</td>\n",
       "      <td>1467812964</td>\n",
       "      <td>Mon Apr 06 22:20:22 PDT 2009</td>\n",
       "      <td>NO_QUERY</td>\n",
       "      <td>lovesongwriter</td>\n",
       "      <td>Hollis' death scene will hurt me severely to w...</td>\n",
       "    </tr>\n",
       "    <tr>\n",
       "      <th>17</th>\n",
       "      <td>0</td>\n",
       "      <td>1467813137</td>\n",
       "      <td>Mon Apr 06 22:20:25 PDT 2009</td>\n",
       "      <td>NO_QUERY</td>\n",
       "      <td>armotley</td>\n",
       "      <td>about to file taxes</td>\n",
       "    </tr>\n",
       "    <tr>\n",
       "      <th>18</th>\n",
       "      <td>0</td>\n",
       "      <td>1467813579</td>\n",
       "      <td>Mon Apr 06 22:20:31 PDT 2009</td>\n",
       "      <td>NO_QUERY</td>\n",
       "      <td>starkissed</td>\n",
       "      <td>@LettyA ahh ive always wanted to see rent  lov...</td>\n",
       "    </tr>\n",
       "    <tr>\n",
       "      <th>19</th>\n",
       "      <td>0</td>\n",
       "      <td>1467813782</td>\n",
       "      <td>Mon Apr 06 22:20:34 PDT 2009</td>\n",
       "      <td>NO_QUERY</td>\n",
       "      <td>gi_gi_bee</td>\n",
       "      <td>@FakerPattyPattz Oh dear. Were you drinking ou...</td>\n",
       "    </tr>\n",
       "  </tbody>\n",
       "</table>\n",
       "</div>"
      ]
     },
     "execution_count": 157,
     "metadata": {},
     "output_type": "execute_result"
    }
   ],
   "execution_count": 157
  },
  {
   "metadata": {
    "ExecuteTime": {
     "end_time": "2024-10-15T16:29:59.226960Z",
     "start_time": "2024-10-15T16:29:59.213957Z"
    }
   },
   "cell_type": "code",
   "source": [
    "## Affichage des 10 dernières lignes\n",
    "data.tail(10)"
   ],
   "id": "47bfdcb647750c0b",
   "outputs": [
    {
     "data": {
      "text/plain": [
       "         0           1                             2         3  \\\n",
       "1599990  4  2193579249  Tue Jun 16 08:38:59 PDT 2009  NO_QUERY   \n",
       "1599991  4  2193579284  Tue Jun 16 08:38:59 PDT 2009  NO_QUERY   \n",
       "1599992  4  2193579434  Tue Jun 16 08:39:00 PDT 2009  NO_QUERY   \n",
       "1599993  4  2193579477  Tue Jun 16 08:39:00 PDT 2009  NO_QUERY   \n",
       "1599994  4  2193579489  Tue Jun 16 08:39:00 PDT 2009  NO_QUERY   \n",
       "1599995  4  2193601966  Tue Jun 16 08:40:49 PDT 2009  NO_QUERY   \n",
       "1599996  4  2193601969  Tue Jun 16 08:40:49 PDT 2009  NO_QUERY   \n",
       "1599997  4  2193601991  Tue Jun 16 08:40:49 PDT 2009  NO_QUERY   \n",
       "1599998  4  2193602064  Tue Jun 16 08:40:49 PDT 2009  NO_QUERY   \n",
       "1599999  4  2193602129  Tue Jun 16 08:40:50 PDT 2009  NO_QUERY   \n",
       "\n",
       "                       4                                                  5  \n",
       "1599990    razzberry5594                              WOOOOO! Xbox is back   \n",
       "1599991        AgustinaP  @rmedina @LaTati Mmmm  That sounds absolutely ...  \n",
       "1599992    sdancingsteph                  ReCoVeRiNg FrOm ThE lOnG wEeKeNd   \n",
       "1599993      ChloeAmisha                                  @SCOOBY_GRITBOYS   \n",
       "1599994        EvolveTom  @Cliff_Forster Yeah, that does work better tha...  \n",
       "1599995  AmandaMarie1028  Just woke up. Having no school is the best fee...  \n",
       "1599996      TheWDBoards  TheWDB.com - Very cool to hear old Walt interv...  \n",
       "1599997           bpbabe  Are you ready for your MoJo Makeover? Ask me f...  \n",
       "1599998     tinydiamondz  Happy 38th Birthday to my boo of alll time!!! ...  \n",
       "1599999   RyanTrevMorris  happy #charitytuesday @theNSPCC @SparksCharity...  "
      ],
      "text/html": [
       "<div>\n",
       "<style scoped>\n",
       "    .dataframe tbody tr th:only-of-type {\n",
       "        vertical-align: middle;\n",
       "    }\n",
       "\n",
       "    .dataframe tbody tr th {\n",
       "        vertical-align: top;\n",
       "    }\n",
       "\n",
       "    .dataframe thead th {\n",
       "        text-align: right;\n",
       "    }\n",
       "</style>\n",
       "<table border=\"1\" class=\"dataframe\">\n",
       "  <thead>\n",
       "    <tr style=\"text-align: right;\">\n",
       "      <th></th>\n",
       "      <th>0</th>\n",
       "      <th>1</th>\n",
       "      <th>2</th>\n",
       "      <th>3</th>\n",
       "      <th>4</th>\n",
       "      <th>5</th>\n",
       "    </tr>\n",
       "  </thead>\n",
       "  <tbody>\n",
       "    <tr>\n",
       "      <th>1599990</th>\n",
       "      <td>4</td>\n",
       "      <td>2193579249</td>\n",
       "      <td>Tue Jun 16 08:38:59 PDT 2009</td>\n",
       "      <td>NO_QUERY</td>\n",
       "      <td>razzberry5594</td>\n",
       "      <td>WOOOOO! Xbox is back</td>\n",
       "    </tr>\n",
       "    <tr>\n",
       "      <th>1599991</th>\n",
       "      <td>4</td>\n",
       "      <td>2193579284</td>\n",
       "      <td>Tue Jun 16 08:38:59 PDT 2009</td>\n",
       "      <td>NO_QUERY</td>\n",
       "      <td>AgustinaP</td>\n",
       "      <td>@rmedina @LaTati Mmmm  That sounds absolutely ...</td>\n",
       "    </tr>\n",
       "    <tr>\n",
       "      <th>1599992</th>\n",
       "      <td>4</td>\n",
       "      <td>2193579434</td>\n",
       "      <td>Tue Jun 16 08:39:00 PDT 2009</td>\n",
       "      <td>NO_QUERY</td>\n",
       "      <td>sdancingsteph</td>\n",
       "      <td>ReCoVeRiNg FrOm ThE lOnG wEeKeNd</td>\n",
       "    </tr>\n",
       "    <tr>\n",
       "      <th>1599993</th>\n",
       "      <td>4</td>\n",
       "      <td>2193579477</td>\n",
       "      <td>Tue Jun 16 08:39:00 PDT 2009</td>\n",
       "      <td>NO_QUERY</td>\n",
       "      <td>ChloeAmisha</td>\n",
       "      <td>@SCOOBY_GRITBOYS</td>\n",
       "    </tr>\n",
       "    <tr>\n",
       "      <th>1599994</th>\n",
       "      <td>4</td>\n",
       "      <td>2193579489</td>\n",
       "      <td>Tue Jun 16 08:39:00 PDT 2009</td>\n",
       "      <td>NO_QUERY</td>\n",
       "      <td>EvolveTom</td>\n",
       "      <td>@Cliff_Forster Yeah, that does work better tha...</td>\n",
       "    </tr>\n",
       "    <tr>\n",
       "      <th>1599995</th>\n",
       "      <td>4</td>\n",
       "      <td>2193601966</td>\n",
       "      <td>Tue Jun 16 08:40:49 PDT 2009</td>\n",
       "      <td>NO_QUERY</td>\n",
       "      <td>AmandaMarie1028</td>\n",
       "      <td>Just woke up. Having no school is the best fee...</td>\n",
       "    </tr>\n",
       "    <tr>\n",
       "      <th>1599996</th>\n",
       "      <td>4</td>\n",
       "      <td>2193601969</td>\n",
       "      <td>Tue Jun 16 08:40:49 PDT 2009</td>\n",
       "      <td>NO_QUERY</td>\n",
       "      <td>TheWDBoards</td>\n",
       "      <td>TheWDB.com - Very cool to hear old Walt interv...</td>\n",
       "    </tr>\n",
       "    <tr>\n",
       "      <th>1599997</th>\n",
       "      <td>4</td>\n",
       "      <td>2193601991</td>\n",
       "      <td>Tue Jun 16 08:40:49 PDT 2009</td>\n",
       "      <td>NO_QUERY</td>\n",
       "      <td>bpbabe</td>\n",
       "      <td>Are you ready for your MoJo Makeover? Ask me f...</td>\n",
       "    </tr>\n",
       "    <tr>\n",
       "      <th>1599998</th>\n",
       "      <td>4</td>\n",
       "      <td>2193602064</td>\n",
       "      <td>Tue Jun 16 08:40:49 PDT 2009</td>\n",
       "      <td>NO_QUERY</td>\n",
       "      <td>tinydiamondz</td>\n",
       "      <td>Happy 38th Birthday to my boo of alll time!!! ...</td>\n",
       "    </tr>\n",
       "    <tr>\n",
       "      <th>1599999</th>\n",
       "      <td>4</td>\n",
       "      <td>2193602129</td>\n",
       "      <td>Tue Jun 16 08:40:50 PDT 2009</td>\n",
       "      <td>NO_QUERY</td>\n",
       "      <td>RyanTrevMorris</td>\n",
       "      <td>happy #charitytuesday @theNSPCC @SparksCharity...</td>\n",
       "    </tr>\n",
       "  </tbody>\n",
       "</table>\n",
       "</div>"
      ]
     },
     "execution_count": 158,
     "metadata": {},
     "output_type": "execute_result"
    }
   ],
   "execution_count": 158
  },
  {
   "metadata": {
    "ExecuteTime": {
     "end_time": "2024-10-15T16:29:59.578958Z",
     "start_time": "2024-10-15T16:29:59.372957Z"
    }
   },
   "cell_type": "code",
   "source": [
    "# Affichage des informations sur les données\n",
    "data.info()"
   ],
   "id": "be1b9bfe7b4c3bb",
   "outputs": [
    {
     "name": "stdout",
     "output_type": "stream",
     "text": [
      "<class 'pandas.core.frame.DataFrame'>\n",
      "RangeIndex: 1600000 entries, 0 to 1599999\n",
      "Data columns (total 6 columns):\n",
      " #   Column  Non-Null Count    Dtype \n",
      "---  ------  --------------    ----- \n",
      " 0   0       1600000 non-null  int64 \n",
      " 1   1       1600000 non-null  int64 \n",
      " 2   2       1600000 non-null  object\n",
      " 3   3       1600000 non-null  object\n",
      " 4   4       1600000 non-null  object\n",
      " 5   5       1600000 non-null  object\n",
      "dtypes: int64(2), object(4)\n",
      "memory usage: 73.2+ MB\n"
     ]
    }
   ],
   "execution_count": 159
  },
  {
   "metadata": {},
   "cell_type": "markdown",
   "source": "# Renommer les colonnes",
   "id": "c270790e40f0f727"
  },
  {
   "metadata": {
    "ExecuteTime": {
     "end_time": "2024-10-15T16:29:59.658974Z",
     "start_time": "2024-10-15T16:29:59.645958Z"
    }
   },
   "cell_type": "code",
   "source": [
    "# Renommer les colonnes car les noms des colonnes ne sont pas explicites, seulement des numéros\n",
    "data.columns = ['target', 'ids', 'date', 'flag', 'user', 'text']\n"
   ],
   "id": "1b7259b29608d578",
   "outputs": [],
   "execution_count": 160
  },
  {
   "metadata": {
    "ExecuteTime": {
     "end_time": "2024-10-15T16:29:59.720956Z",
     "start_time": "2024-10-15T16:29:59.697960Z"
    }
   },
   "cell_type": "code",
   "source": [
    "# Affichage des 10 premières lignes\n",
    "data.head(10)"
   ],
   "id": "a5fd36e1bfff283",
   "outputs": [
    {
     "data": {
      "text/plain": [
       "   target         ids                          date      flag  \\\n",
       "0       0  1467810369  Mon Apr 06 22:19:45 PDT 2009  NO_QUERY   \n",
       "1       0  1467810672  Mon Apr 06 22:19:49 PDT 2009  NO_QUERY   \n",
       "2       0  1467810917  Mon Apr 06 22:19:53 PDT 2009  NO_QUERY   \n",
       "3       0  1467811184  Mon Apr 06 22:19:57 PDT 2009  NO_QUERY   \n",
       "4       0  1467811193  Mon Apr 06 22:19:57 PDT 2009  NO_QUERY   \n",
       "5       0  1467811372  Mon Apr 06 22:20:00 PDT 2009  NO_QUERY   \n",
       "6       0  1467811592  Mon Apr 06 22:20:03 PDT 2009  NO_QUERY   \n",
       "7       0  1467811594  Mon Apr 06 22:20:03 PDT 2009  NO_QUERY   \n",
       "8       0  1467811795  Mon Apr 06 22:20:05 PDT 2009  NO_QUERY   \n",
       "9       0  1467812025  Mon Apr 06 22:20:09 PDT 2009  NO_QUERY   \n",
       "\n",
       "              user                                               text  \n",
       "0  _TheSpecialOne_  @switchfoot http://twitpic.com/2y1zl - Awww, t...  \n",
       "1    scotthamilton  is upset that he can't update his Facebook by ...  \n",
       "2         mattycus  @Kenichan I dived many times for the ball. Man...  \n",
       "3          ElleCTF    my whole body feels itchy and like its on fire   \n",
       "4           Karoli  @nationwideclass no, it's not behaving at all....  \n",
       "5         joy_wolf                      @Kwesidei not the whole crew   \n",
       "6          mybirch                                        Need a hug   \n",
       "7             coZZ  @LOLTrish hey  long time no see! Yes.. Rains a...  \n",
       "8  2Hood4Hollywood               @Tatiana_K nope they didn't have it   \n",
       "9          mimismo                          @twittera que me muera ?   "
      ],
      "text/html": [
       "<div>\n",
       "<style scoped>\n",
       "    .dataframe tbody tr th:only-of-type {\n",
       "        vertical-align: middle;\n",
       "    }\n",
       "\n",
       "    .dataframe tbody tr th {\n",
       "        vertical-align: top;\n",
       "    }\n",
       "\n",
       "    .dataframe thead th {\n",
       "        text-align: right;\n",
       "    }\n",
       "</style>\n",
       "<table border=\"1\" class=\"dataframe\">\n",
       "  <thead>\n",
       "    <tr style=\"text-align: right;\">\n",
       "      <th></th>\n",
       "      <th>target</th>\n",
       "      <th>ids</th>\n",
       "      <th>date</th>\n",
       "      <th>flag</th>\n",
       "      <th>user</th>\n",
       "      <th>text</th>\n",
       "    </tr>\n",
       "  </thead>\n",
       "  <tbody>\n",
       "    <tr>\n",
       "      <th>0</th>\n",
       "      <td>0</td>\n",
       "      <td>1467810369</td>\n",
       "      <td>Mon Apr 06 22:19:45 PDT 2009</td>\n",
       "      <td>NO_QUERY</td>\n",
       "      <td>_TheSpecialOne_</td>\n",
       "      <td>@switchfoot http://twitpic.com/2y1zl - Awww, t...</td>\n",
       "    </tr>\n",
       "    <tr>\n",
       "      <th>1</th>\n",
       "      <td>0</td>\n",
       "      <td>1467810672</td>\n",
       "      <td>Mon Apr 06 22:19:49 PDT 2009</td>\n",
       "      <td>NO_QUERY</td>\n",
       "      <td>scotthamilton</td>\n",
       "      <td>is upset that he can't update his Facebook by ...</td>\n",
       "    </tr>\n",
       "    <tr>\n",
       "      <th>2</th>\n",
       "      <td>0</td>\n",
       "      <td>1467810917</td>\n",
       "      <td>Mon Apr 06 22:19:53 PDT 2009</td>\n",
       "      <td>NO_QUERY</td>\n",
       "      <td>mattycus</td>\n",
       "      <td>@Kenichan I dived many times for the ball. Man...</td>\n",
       "    </tr>\n",
       "    <tr>\n",
       "      <th>3</th>\n",
       "      <td>0</td>\n",
       "      <td>1467811184</td>\n",
       "      <td>Mon Apr 06 22:19:57 PDT 2009</td>\n",
       "      <td>NO_QUERY</td>\n",
       "      <td>ElleCTF</td>\n",
       "      <td>my whole body feels itchy and like its on fire</td>\n",
       "    </tr>\n",
       "    <tr>\n",
       "      <th>4</th>\n",
       "      <td>0</td>\n",
       "      <td>1467811193</td>\n",
       "      <td>Mon Apr 06 22:19:57 PDT 2009</td>\n",
       "      <td>NO_QUERY</td>\n",
       "      <td>Karoli</td>\n",
       "      <td>@nationwideclass no, it's not behaving at all....</td>\n",
       "    </tr>\n",
       "    <tr>\n",
       "      <th>5</th>\n",
       "      <td>0</td>\n",
       "      <td>1467811372</td>\n",
       "      <td>Mon Apr 06 22:20:00 PDT 2009</td>\n",
       "      <td>NO_QUERY</td>\n",
       "      <td>joy_wolf</td>\n",
       "      <td>@Kwesidei not the whole crew</td>\n",
       "    </tr>\n",
       "    <tr>\n",
       "      <th>6</th>\n",
       "      <td>0</td>\n",
       "      <td>1467811592</td>\n",
       "      <td>Mon Apr 06 22:20:03 PDT 2009</td>\n",
       "      <td>NO_QUERY</td>\n",
       "      <td>mybirch</td>\n",
       "      <td>Need a hug</td>\n",
       "    </tr>\n",
       "    <tr>\n",
       "      <th>7</th>\n",
       "      <td>0</td>\n",
       "      <td>1467811594</td>\n",
       "      <td>Mon Apr 06 22:20:03 PDT 2009</td>\n",
       "      <td>NO_QUERY</td>\n",
       "      <td>coZZ</td>\n",
       "      <td>@LOLTrish hey  long time no see! Yes.. Rains a...</td>\n",
       "    </tr>\n",
       "    <tr>\n",
       "      <th>8</th>\n",
       "      <td>0</td>\n",
       "      <td>1467811795</td>\n",
       "      <td>Mon Apr 06 22:20:05 PDT 2009</td>\n",
       "      <td>NO_QUERY</td>\n",
       "      <td>2Hood4Hollywood</td>\n",
       "      <td>@Tatiana_K nope they didn't have it</td>\n",
       "    </tr>\n",
       "    <tr>\n",
       "      <th>9</th>\n",
       "      <td>0</td>\n",
       "      <td>1467812025</td>\n",
       "      <td>Mon Apr 06 22:20:09 PDT 2009</td>\n",
       "      <td>NO_QUERY</td>\n",
       "      <td>mimismo</td>\n",
       "      <td>@twittera que me muera ?</td>\n",
       "    </tr>\n",
       "  </tbody>\n",
       "</table>\n",
       "</div>"
      ]
     },
     "execution_count": 161,
     "metadata": {},
     "output_type": "execute_result"
    }
   ],
   "execution_count": 161
  },
  {
   "metadata": {
    "ExecuteTime": {
     "end_time": "2024-10-15T16:30:01.655958Z",
     "start_time": "2024-10-15T16:29:59.816957Z"
    }
   },
   "cell_type": "code",
   "source": [
    "# Pas de doublons\n",
    "data.duplicated().sum()"
   ],
   "id": "5710340c7c25bde9",
   "outputs": [
    {
     "data": {
      "text/plain": [
       "np.int64(0)"
      ]
     },
     "execution_count": 162,
     "metadata": {},
     "output_type": "execute_result"
    }
   ],
   "execution_count": 162
  },
  {
   "metadata": {
    "ExecuteTime": {
     "end_time": "2024-10-15T16:30:05.201959Z",
     "start_time": "2024-10-15T16:30:01.704959Z"
    }
   },
   "cell_type": "code",
   "source": [
    "# Suppression des doublons\n",
    "data.drop_duplicates(inplace=True)\n",
    "\n",
    "# Vérification\n",
    "print(f\"Nombre de doublons après suppression : {data.duplicated().sum()}\")"
   ],
   "id": "ff2059a782f4d799",
   "outputs": [
    {
     "name": "stdout",
     "output_type": "stream",
     "text": [
      "Nombre de doublons après suppression : 0\n"
     ]
    }
   ],
   "execution_count": 163
  },
  {
   "metadata": {
    "ExecuteTime": {
     "end_time": "2024-10-15T16:30:05.437957Z",
     "start_time": "2024-10-15T16:30:05.222959Z"
    }
   },
   "cell_type": "code",
   "source": [
    "# Affichage des informations sur les données\n",
    "data.info()"
   ],
   "id": "5773688752f6930e",
   "outputs": [
    {
     "name": "stdout",
     "output_type": "stream",
     "text": [
      "<class 'pandas.core.frame.DataFrame'>\n",
      "RangeIndex: 1600000 entries, 0 to 1599999\n",
      "Data columns (total 6 columns):\n",
      " #   Column  Non-Null Count    Dtype \n",
      "---  ------  --------------    ----- \n",
      " 0   target  1600000 non-null  int64 \n",
      " 1   ids     1600000 non-null  int64 \n",
      " 2   date    1600000 non-null  object\n",
      " 3   flag    1600000 non-null  object\n",
      " 4   user    1600000 non-null  object\n",
      " 5   text    1600000 non-null  object\n",
      "dtypes: int64(2), object(4)\n",
      "memory usage: 73.2+ MB\n"
     ]
    }
   ],
   "execution_count": 164
  },
  {
   "metadata": {},
   "cell_type": "markdown",
   "source": [
    "Les données contiennent 6 colonnes et 1 600 000 lignes. Les colonnes sont les suivantes :\n",
    "- target : la polarité du tweet (0 = négatif, 4 = positif), c'est la colonne que nous allons essayer de prédire\n",
    "- ids : l'identifiant du tweet, devrait être supprimé car il n'apporte aucune information\n",
    "- date : la date du tweet, devrait être supprimée car elle n'apporte aucune information pour la classification\n",
    "- flag : le drapeau du tweet qui est toujours NO_QUERY. Normalement, il devrait être supprimé car il n'apporte aucune information\n",
    "- user : le nom d'utilisateur du tweet, devrait être supprimé car il n'apporte aucune information\n",
    "- text : le texte du tweet, c'est la colonne que nous allons utiliser pour la classification"
   ],
   "id": "33b2a3450e2254ce"
  },
  {
   "metadata": {
    "ExecuteTime": {
     "end_time": "2024-10-15T16:30:05.499957Z",
     "start_time": "2024-10-15T16:30:05.470958Z"
    }
   },
   "cell_type": "code",
   "source": [
    "# Ce que nous avons dans la colonne target\n",
    "data['target'].value_counts()"
   ],
   "id": "cc7bb3daa0339a06",
   "outputs": [
    {
     "data": {
      "text/plain": [
       "target\n",
       "0    800000\n",
       "4    800000\n",
       "Name: count, dtype: int64"
      ]
     },
     "execution_count": 165,
     "metadata": {},
     "output_type": "execute_result"
    }
   ],
   "execution_count": 165
  },
  {
   "metadata": {
    "ExecuteTime": {
     "end_time": "2024-10-15T16:30:05.670957Z",
     "start_time": "2024-10-15T16:30:05.579955Z"
    }
   },
   "cell_type": "code",
   "source": [
    "# Suppression des colonnes inutiles\n",
    "data.drop(['ids', 'date', 'flag', 'user'], axis=1, inplace=True)\n"
   ],
   "id": "6c91a626e67e60ef",
   "outputs": [],
   "execution_count": 166
  },
  {
   "metadata": {
    "ExecuteTime": {
     "end_time": "2024-10-15T16:30:05.763960Z",
     "start_time": "2024-10-15T16:30:05.735962Z"
    }
   },
   "cell_type": "code",
   "source": [
    "# Affichage des 10 premières lignes\n",
    "data.head(10)"
   ],
   "id": "5dc48dfe3321dfc2",
   "outputs": [
    {
     "data": {
      "text/plain": [
       "   target                                               text\n",
       "0       0  @switchfoot http://twitpic.com/2y1zl - Awww, t...\n",
       "1       0  is upset that he can't update his Facebook by ...\n",
       "2       0  @Kenichan I dived many times for the ball. Man...\n",
       "3       0    my whole body feels itchy and like its on fire \n",
       "4       0  @nationwideclass no, it's not behaving at all....\n",
       "5       0                      @Kwesidei not the whole crew \n",
       "6       0                                        Need a hug \n",
       "7       0  @LOLTrish hey  long time no see! Yes.. Rains a...\n",
       "8       0               @Tatiana_K nope they didn't have it \n",
       "9       0                          @twittera que me muera ? "
      ],
      "text/html": [
       "<div>\n",
       "<style scoped>\n",
       "    .dataframe tbody tr th:only-of-type {\n",
       "        vertical-align: middle;\n",
       "    }\n",
       "\n",
       "    .dataframe tbody tr th {\n",
       "        vertical-align: top;\n",
       "    }\n",
       "\n",
       "    .dataframe thead th {\n",
       "        text-align: right;\n",
       "    }\n",
       "</style>\n",
       "<table border=\"1\" class=\"dataframe\">\n",
       "  <thead>\n",
       "    <tr style=\"text-align: right;\">\n",
       "      <th></th>\n",
       "      <th>target</th>\n",
       "      <th>text</th>\n",
       "    </tr>\n",
       "  </thead>\n",
       "  <tbody>\n",
       "    <tr>\n",
       "      <th>0</th>\n",
       "      <td>0</td>\n",
       "      <td>@switchfoot http://twitpic.com/2y1zl - Awww, t...</td>\n",
       "    </tr>\n",
       "    <tr>\n",
       "      <th>1</th>\n",
       "      <td>0</td>\n",
       "      <td>is upset that he can't update his Facebook by ...</td>\n",
       "    </tr>\n",
       "    <tr>\n",
       "      <th>2</th>\n",
       "      <td>0</td>\n",
       "      <td>@Kenichan I dived many times for the ball. Man...</td>\n",
       "    </tr>\n",
       "    <tr>\n",
       "      <th>3</th>\n",
       "      <td>0</td>\n",
       "      <td>my whole body feels itchy and like its on fire</td>\n",
       "    </tr>\n",
       "    <tr>\n",
       "      <th>4</th>\n",
       "      <td>0</td>\n",
       "      <td>@nationwideclass no, it's not behaving at all....</td>\n",
       "    </tr>\n",
       "    <tr>\n",
       "      <th>5</th>\n",
       "      <td>0</td>\n",
       "      <td>@Kwesidei not the whole crew</td>\n",
       "    </tr>\n",
       "    <tr>\n",
       "      <th>6</th>\n",
       "      <td>0</td>\n",
       "      <td>Need a hug</td>\n",
       "    </tr>\n",
       "    <tr>\n",
       "      <th>7</th>\n",
       "      <td>0</td>\n",
       "      <td>@LOLTrish hey  long time no see! Yes.. Rains a...</td>\n",
       "    </tr>\n",
       "    <tr>\n",
       "      <th>8</th>\n",
       "      <td>0</td>\n",
       "      <td>@Tatiana_K nope they didn't have it</td>\n",
       "    </tr>\n",
       "    <tr>\n",
       "      <th>9</th>\n",
       "      <td>0</td>\n",
       "      <td>@twittera que me muera ?</td>\n",
       "    </tr>\n",
       "  </tbody>\n",
       "</table>\n",
       "</div>"
      ]
     },
     "execution_count": 167,
     "metadata": {},
     "output_type": "execute_result"
    }
   ],
   "execution_count": 167
  },
  {
   "metadata": {
    "ExecuteTime": {
     "end_time": "2024-10-15T19:13:14.775724Z",
     "start_time": "2024-10-15T19:13:14.566722Z"
    }
   },
   "cell_type": "code",
   "source": [
    "# Valeurs manquantes\n",
    "data.isnull().sum()"
   ],
   "id": "22ce0eaf597a8797",
   "outputs": [
    {
     "data": {
      "text/plain": [
       "target                   0\n",
       "text                     0\n",
       "clean_text_tfidf         0\n",
       "clean_text_embeddings    0\n",
       "clean_text_bert          0\n",
       "dtype: int64"
      ]
     },
     "execution_count": 180,
     "metadata": {},
     "output_type": "execute_result"
    }
   ],
   "execution_count": 180
  },
  {
   "metadata": {
    "ExecuteTime": {
     "end_time": "2024-10-15T16:30:05.856959Z",
     "start_time": "2024-10-15T16:30:05.828957Z"
    }
   },
   "cell_type": "code",
   "source": [
    "### Remplacement des valeurs dans la colonne target, 4 par 1 (positif), o est déjà négatif donc pas besoin de le changer\n",
    "data['target'] = data['target'].replace({4: 1})"
   ],
   "id": "3ee0ed3afe780bd5",
   "outputs": [],
   "execution_count": 168
  },
  {
   "metadata": {
    "ExecuteTime": {
     "end_time": "2024-10-15T16:30:05.936955Z",
     "start_time": "2024-10-15T16:30:05.907957Z"
    }
   },
   "cell_type": "code",
   "source": [
    "# Ce que nous avons dans la colonne target\n",
    "data['target'].value_counts()"
   ],
   "id": "f59722c0504a24ae",
   "outputs": [
    {
     "data": {
      "text/plain": [
       "target\n",
       "0    800000\n",
       "1    800000\n",
       "Name: count, dtype: int64"
      ]
     },
     "execution_count": 169,
     "metadata": {},
     "output_type": "execute_result"
    }
   ],
   "execution_count": 169
  },
  {
   "metadata": {},
   "cell_type": "markdown",
   "source": [
    "### les données sont équilibrées:\n",
    "- 800 000 tweets négatifs\n",
    "- 800 000 tweets positifs\n",
    "- Pas de suréchantillonnage ou de sous-échantillonnage nécessaire"
   ],
   "id": "99a9e940a8642be8"
  },
  {
   "metadata": {
    "ExecuteTime": {
     "end_time": "2024-10-15T16:30:06.276958Z",
     "start_time": "2024-10-15T16:30:06.029963Z"
    }
   },
   "cell_type": "code",
   "source": [
    "import matplotlib.pyplot as plt\n",
    "\n",
    "# Étape 1: Pré-agréger les données pour les compter\n",
    "target_counts = data['target'].value_counts()\n",
    "\n",
    "# Étape 2: Création du graphique avec Matplotlib\n",
    "plt.figure(figsize=(10, 6))\n",
    "plt.bar(target_counts.index, target_counts.values, color='skyblue')\n",
    "plt.title('Répartition des tweets par polarité')\n",
    "plt.xlabel('Classe de Target')\n",
    "plt.ylabel('Nombre d\\'occurrences')\n",
    "plt.xticks(rotation=45)  # Si nécessaire, ajuste la rotation des labels pour la lisibilité\n",
    "plt.show()"
   ],
   "id": "799667568350b81f",
   "outputs": [
    {
     "data": {
      "text/plain": [
       "<Figure size 720x432 with 1 Axes>"
      ],
      "image/png": "[encoded data removed]"
     },
     "metadata": {
      "needs_background": "light"
     },
     "output_type": "display_data"
    }
   ],
   "execution_count": 170
  },
  {
   "metadata": {},
   "cell_type": "markdown",
   "source": "### Prétraitement des données",
   "id": "463d4a7d81760faa"
  },
  {
   "metadata": {
    "ExecuteTime": {
     "end_time": "2024-10-15T16:30:06.353958Z",
     "start_time": "2024-10-15T16:30:06.340956Z"
    }
   },
   "cell_type": "code",
   "source": [
    "# Importation des bibliothèques nécessaires\n",
    "import re\n",
    "import string\n",
    "import nltk # Bibliothèque de traitement du langage naturel\n",
    "from nltk.corpus import stopwords # Liste des mots vides en anglais\n",
    "from nltk.tokenize import TweetTokenizer # Tokenizer spécial pour les tweets\n",
    "from nltk.stem import PorterStemmer # Stemmer pour l'anglais\n",
    "from nltk.stem import WordNetLemmatizer # Lemmatizer pour l'anglais\n"
   ],
   "id": "9eb7588de6e14eed",
   "outputs": [],
   "execution_count": 171
  },
  {
   "metadata": {
    "ExecuteTime": {
     "end_time": "2024-10-15T16:30:06.384957Z",
     "start_time": "2024-10-15T16:30:06.362960Z"
    }
   },
   "cell_type": "code",
   "source": [
    "# Téléchargement des stopwords\n",
    "nltk.download('stopwords') # Liste des mots vides en anglais \n",
    "nltk.download('wordnet')   # Dictionnaire WordNet pour la lemmatization \n"
   ],
   "id": "c0718c3984a03e15",
   "outputs": [
    {
     "name": "stderr",
     "output_type": "stream",
     "text": [
      "[nltk_data] Downloading package stopwords to\n",
      "[nltk_data]     C:\\Users\\pat\\AppData\\Roaming\\nltk_data...\n",
      "[nltk_data]   Package stopwords is already up-to-date!\n",
      "[nltk_data] Downloading package wordnet to\n",
      "[nltk_data]     C:\\Users\\pat\\AppData\\Roaming\\nltk_data...\n",
      "[nltk_data]   Package wordnet is already up-to-date!\n"
     ]
    },
    {
     "data": {
      "text/plain": [
       "True"
      ]
     },
     "execution_count": 172,
     "metadata": {},
     "output_type": "execute_result"
    }
   ],
   "execution_count": 172
  },
  {
   "metadata": {
    "ExecuteTime": {
     "end_time": "2024-10-15T16:30:06.448957Z",
     "start_time": "2024-10-15T16:30:06.436986Z"
    }
   },
   "cell_type": "code",
   "source": [
    "# Instanciation de la classe TweetTokenizer\n",
    "tweet_tokenizer = TweetTokenizer()\n"
   ],
   "id": "a785d086400c60b1",
   "outputs": [],
   "execution_count": 173
  },
  {
   "metadata": {
    "ExecuteTime": {
     "end_time": "2024-10-15T16:30:06.496956Z",
     "start_time": "2024-10-15T16:30:06.482957Z"
    }
   },
   "cell_type": "code",
   "source": [
    "# Instanciation de la classe WordNetLemmatizer qui permet de réduire les mots à leur forme canonique\n",
    "wordnet_lemmatizer = WordNetLemmatizer()\n"
   ],
   "id": "1570a2eaf612ba1c",
   "outputs": [],
   "execution_count": 174
  },
  {
   "metadata": {},
   "cell_type": "markdown",
   "source": [
    "### Fonction de nettoyage du texte classique pour le modèle de régression logistique (avec TF-IDF pour la vectorisation du texte)\n",
    "- Cette fonction de nettoyage classique est utilisée pour le modèle de régression logistique avec suppression des stopwords et lemmatization\n",
    "- Idéal pour TF-IDF et la régression logistique\n",
    "- TF-IDF est une technique de vectorisation du texte.\n",
    "- La régression logistique est l'algorithme de machine learning qui, dans ce cas, prend les vecteurs TF-IDF comme entrée pour faire des prédictions."
   ],
   "id": "f484157236878923"
  },
  {
   "metadata": {
    "ExecuteTime": {
     "end_time": "2024-10-15T16:30:06.544959Z",
     "start_time": "2024-10-15T16:30:06.530960Z"
    }
   },
   "cell_type": "code",
   "source": [
    "## Fonction de nettoyage du texte classique pour le modèle de régression logistique\n",
    "import re\n",
    "import string\n",
    "from nltk.corpus import stopwords\n",
    "from nltk.tokenize import TweetTokenizer\n",
    "from nltk.stem import WordNetLemmatizer\n",
    "\n",
    "# Initialisation des outils nécessaires\n",
    "tweet_tokenizer = TweetTokenizer()\n",
    "wordnet_lemmatizer = WordNetLemmatizer()\n",
    "\n",
    "def clean_text_tfidf(text):\n",
    "    # Conversion en minuscules\n",
    "    text = text.lower()\n",
    "    # Suppression des liens hypertextes\n",
    "    text = re.sub(r'http\\S+', '', text)\n",
    "    # Suppression des mentions\n",
    "    text = re.sub(r'@\\w+', '', text)\n",
    "    # Suppression des hashtags\n",
    "    text = re.sub(r'#\\w+', '', text)\n",
    "    # Suppression de la ponctuation\n",
    "    text = text.translate(str.maketrans('', '', string.punctuation))\n",
    "    # Tokenization\n",
    "    tokens = tweet_tokenizer.tokenize(text)\n",
    "    # Suppression des stopwords\n",
    "    tokens = [word for word in tokens if word not in stopwords.words('english')]\n",
    "    # Lemmatization\n",
    "    tokens = [wordnet_lemmatizer.lemmatize(word, pos='v') for word in tokens]\n",
    "    # Reconstitution du texte\n",
    "    return ' '.join(tokens)\n"
   ],
   "id": "b3abeedfafc2273e",
   "outputs": [],
   "execution_count": 175
  },
  {
   "metadata": {},
   "cell_type": "markdown",
   "source": [
    "### Fonction pour le modèle avec Word Embeddings et réseaux de neurones profonds (Deep Learning)\n",
    "- ici, nous n'avons pas besoin de supprimer les stopwords car ils peuvent être utiles pour la classification mais on peut conserver la lemmatization"
   ],
   "id": "a3b93b37861b57c8"
  },
  {
   "metadata": {
    "ExecuteTime": {
     "end_time": "2024-10-15T16:30:06.592977Z",
     "start_time": "2024-10-15T16:30:06.579959Z"
    }
   },
   "cell_type": "code",
   "source": [
    "import re\n",
    "import string\n",
    "from nltk.tokenize import TweetTokenizer\n",
    "from nltk.stem import WordNetLemmatizer\n",
    "\n",
    "# Initialisation des outils nécessaires\n",
    "tweet_tokenizer = TweetTokenizer()\n",
    "wordnet_lemmatizer = WordNetLemmatizer()\n",
    "\n",
    "def clean_text_embeddings(text):\n",
    "    # Conversion en minuscules\n",
    "    text = text.lower()\n",
    "    # Suppression des liens hypertextes\n",
    "    text = re.sub(r'http\\S+', '', text)\n",
    "    # Suppression des mentions\n",
    "    text = re.sub(r'@\\w+', '', text)\n",
    "    # Suppression des hashtags\n",
    "    text = re.sub(r'#\\w+', '', text)\n",
    "    # Suppression de la ponctuation\n",
    "    text = text.translate(str.maketrans('', '', string.punctuation))\n",
    "    # Tokenization\n",
    "    tokens = tweet_tokenizer.tokenize(text)\n",
    "    # Lemmatization (mais garder les stopwords)\n",
    "    tokens = [wordnet_lemmatizer.lemmatize(word, pos='v') for word in tokens]\n",
    "    # Reconstitution du texte\n",
    "    return ' '.join(tokens)\n"
   ],
   "id": "64c1c8adbaac75b",
   "outputs": [],
   "execution_count": 176
  },
  {
   "metadata": {},
   "cell_type": "markdown",
   "source": [
    "### Nettoyage des données pour BERT\n",
    "- Pour BERT, il est important de faire un prétraitement minimal et d'utiliser le tokenizer spécifique à BERT. Cette fonction est beaucoup plus simple."
   ],
   "id": "851e56622f04d4c8"
  },
  {
   "metadata": {
    "ExecuteTime": {
     "end_time": "2024-10-15T16:30:06.829957Z",
     "start_time": "2024-10-15T16:30:06.627960Z"
    }
   },
   "cell_type": "code",
   "source": [
    "from transformers import BertTokenizer\n",
    "\n",
    "# Initialisation du tokenizer BERT\n",
    "tokenizer = BertTokenizer.from_pretrained('bert-base-uncased')\n",
    "\n",
    "def clean_and_tokenize_with_bert(text):\n",
    "    # Conversion du texte en minuscules (BERT uncased)\n",
    "    text = text.lower()\n",
    "    # Suppression des liens hypertextes\n",
    "    text = re.sub(r'http\\S+', '', text)\n",
    "    # Utilisation du tokenizer de BERT\n",
    "    tokens = tokenizer.tokenize(text)\n",
    "    return tokens\n"
   ],
   "id": "f48e1d3de7cec3d9",
   "outputs": [],
   "execution_count": 177
  },
  {
   "metadata": {},
   "cell_type": "markdown",
   "source": "### Ajout de 3 colonnes pour les données nettoyées selon les 3 méthodes (TF-IDF, Word Embeddings, BERT) avec traitement par batch pour éviter les problèmes de mémoire",
   "id": "a9c6bc11e6c303e"
  },
  {
   "metadata": {
    "ExecuteTime": {
     "end_time": "2024-10-15T18:06:19.985071Z",
     "start_time": "2024-10-15T16:30:06.873959Z"
    }
   },
   "cell_type": "code",
   "source": [
    "import pandas as pd\n",
    "import os\n",
    "import time\n",
    "\n",
    "# Taille du batch\n",
    "batch_size = 20000  # Ajuste selon la capacité de mémoire disponible\n",
    "\n",
    "# Chemin pour sauvegarder le DataFrame nettoyé\n",
    "file_path = os.path.join(\"..\", \"data\", \"cleaned_data_with_text_for_models.csv\")\n",
    "\n",
    "# Fonction pour appliquer les traitements de nettoyage sur un batch\n",
    "def process_batch(df_batch):\n",
    "    df_batch['clean_text_tfidf'] = df_batch['text'].apply(clean_text_tfidf)\n",
    "    df_batch['clean_text_embeddings'] = df_batch['text'].apply(clean_text_embeddings)\n",
    "    df_batch['clean_text_bert'] = df_batch['text'].apply(clean_and_tokenize_with_bert)\n",
    "    return df_batch\n",
    "\n",
    "# Créer les colonnes vides pour 'clean_text_tfidf', 'clean_text_embeddings', et 'clean_text_bert' avant de commencer\n",
    "data['clean_text_tfidf'] = ''\n",
    "data['clean_text_embeddings'] = ''\n",
    "data['clean_text_bert'] = ''\n",
    "\n",
    "# Création du fichier de sortie vide avec uniquement les colonnes 'text' et 'target' + colonnes de nettoyages\n",
    "# Cette étape garantit que les bonnes en-têtes sont définies\n",
    "data[['text', 'clean_text_tfidf', 'clean_text_embeddings', 'clean_text_bert', 'target']].head(0).to_csv(file_path, index=False)\n",
    "\n",
    "# Traitement par lot\n",
    "for start in range(0, len(data), batch_size):\n",
    "    # Calcul du temps de démarrage\n",
    "    start_time = time.time()\n",
    "    \n",
    "    # Extraction du batch\n",
    "    batch = data.iloc[start:start + batch_size].copy()\n",
    "\n",
    "    # Traitement du batch\n",
    "    processed_batch = process_batch(batch)\n",
    "\n",
    "    # Sauvegarde du batch traité dans le fichier de sortie sans index\n",
    "    processed_batch[['text', 'clean_text_tfidf', 'clean_text_embeddings', 'clean_text_bert', 'target']].to_csv(\n",
    "        file_path, mode='a', header=False, index=False)\n",
    "    \n",
    "    # Calcul du temps de traitement\n",
    "    end_time = time.time()\n",
    "    elapsed_time = end_time - start_time\n",
    "    \n",
    "    # Affichage d'un message après chaque batch avec le temps de calcul\n",
    "    print(f\"Batch {start//batch_size + 1} traité et sauvegardé en {elapsed_time:.2f} secondes.\")\n",
    "\n",
    "print(f\"DataFrame nettoyé et sauvegardé par lot dans {file_path}.\")\n"
   ],
   "id": "5eba5b7570f5e50b",
   "outputs": [
    {
     "name": "stdout",
     "output_type": "stream",
     "text": [
      "Batch 1 traité et sauvegardé en 76.96 secondes.\n",
      "Batch 2 traité et sauvegardé en 79.68 secondes.\n",
      "Batch 3 traité et sauvegardé en 76.02 secondes.\n",
      "Batch 4 traité et sauvegardé en 78.40 secondes.\n",
      "Batch 5 traité et sauvegardé en 75.66 secondes.\n",
      "Batch 6 traité et sauvegardé en 74.34 secondes.\n",
      "Batch 7 traité et sauvegardé en 75.02 secondes.\n",
      "Batch 8 traité et sauvegardé en 75.58 secondes.\n",
      "Batch 9 traité et sauvegardé en 74.08 secondes.\n",
      "Batch 10 traité et sauvegardé en 73.94 secondes.\n",
      "Batch 11 traité et sauvegardé en 75.51 secondes.\n",
      "Batch 12 traité et sauvegardé en 73.34 secondes.\n",
      "Batch 13 traité et sauvegardé en 73.63 secondes.\n",
      "Batch 14 traité et sauvegardé en 74.35 secondes.\n",
      "Batch 15 traité et sauvegardé en 75.15 secondes.\n",
      "Batch 16 traité et sauvegardé en 77.25 secondes.\n",
      "Batch 17 traité et sauvegardé en 74.83 secondes.\n",
      "Batch 18 traité et sauvegardé en 75.17 secondes.\n",
      "Batch 19 traité et sauvegardé en 73.11 secondes.\n",
      "Batch 20 traité et sauvegardé en 74.60 secondes.\n",
      "Batch 21 traité et sauvegardé en 73.42 secondes.\n",
      "Batch 22 traité et sauvegardé en 74.52 secondes.\n",
      "Batch 23 traité et sauvegardé en 73.39 secondes.\n",
      "Batch 24 traité et sauvegardé en 74.14 secondes.\n",
      "Batch 25 traité et sauvegardé en 72.95 secondes.\n",
      "Batch 26 traité et sauvegardé en 74.66 secondes.\n",
      "Batch 27 traité et sauvegardé en 75.18 secondes.\n",
      "Batch 28 traité et sauvegardé en 76.71 secondes.\n",
      "Batch 29 traité et sauvegardé en 75.08 secondes.\n",
      "Batch 30 traité et sauvegardé en 74.42 secondes.\n",
      "Batch 31 traité et sauvegardé en 74.22 secondes.\n",
      "Batch 32 traité et sauvegardé en 74.18 secondes.\n",
      "Batch 33 traité et sauvegardé en 74.99 secondes.\n",
      "Batch 34 traité et sauvegardé en 74.02 secondes.\n",
      "Batch 35 traité et sauvegardé en 75.15 secondes.\n",
      "Batch 36 traité et sauvegardé en 73.75 secondes.\n",
      "Batch 37 traité et sauvegardé en 73.44 secondes.\n",
      "Batch 38 traité et sauvegardé en 73.95 secondes.\n",
      "Batch 39 traité et sauvegardé en 74.47 secondes.\n",
      "Batch 40 traité et sauvegardé en 77.26 secondes.\n",
      "Batch 41 traité et sauvegardé en 69.68 secondes.\n",
      "Batch 42 traité et sauvegardé en 68.27 secondes.\n",
      "Batch 43 traité et sauvegardé en 69.39 secondes.\n",
      "Batch 44 traité et sauvegardé en 69.30 secondes.\n",
      "Batch 45 traité et sauvegardé en 70.06 secondes.\n",
      "Batch 46 traité et sauvegardé en 71.04 secondes.\n",
      "Batch 47 traité et sauvegardé en 69.67 secondes.\n",
      "Batch 48 traité et sauvegardé en 70.22 secondes.\n",
      "Batch 49 traité et sauvegardé en 69.09 secondes.\n",
      "Batch 50 traité et sauvegardé en 70.10 secondes.\n",
      "Batch 51 traité et sauvegardé en 68.44 secondes.\n",
      "Batch 52 traité et sauvegardé en 69.00 secondes.\n",
      "Batch 53 traité et sauvegardé en 71.15 secondes.\n",
      "Batch 54 traité et sauvegardé en 67.96 secondes.\n",
      "Batch 55 traité et sauvegardé en 68.41 secondes.\n",
      "Batch 56 traité et sauvegardé en 68.12 secondes.\n",
      "Batch 57 traité et sauvegardé en 67.93 secondes.\n",
      "Batch 58 traité et sauvegardé en 68.38 secondes.\n",
      "Batch 59 traité et sauvegardé en 68.89 secondes.\n",
      "Batch 60 traité et sauvegardé en 68.85 secondes.\n",
      "Batch 61 traité et sauvegardé en 69.39 secondes.\n",
      "Batch 62 traité et sauvegardé en 70.79 secondes.\n",
      "Batch 63 traité et sauvegardé en 69.58 secondes.\n",
      "Batch 64 traité et sauvegardé en 70.21 secondes.\n",
      "Batch 65 traité et sauvegardé en 70.88 secondes.\n",
      "Batch 66 traité et sauvegardé en 72.37 secondes.\n",
      "Batch 67 traité et sauvegardé en 69.65 secondes.\n",
      "Batch 68 traité et sauvegardé en 68.78 secondes.\n",
      "Batch 69 traité et sauvegardé en 68.65 secondes.\n",
      "Batch 70 traité et sauvegardé en 70.41 secondes.\n",
      "Batch 71 traité et sauvegardé en 68.54 secondes.\n",
      "Batch 72 traité et sauvegardé en 67.50 secondes.\n",
      "Batch 73 traité et sauvegardé en 69.49 secondes.\n",
      "Batch 74 traité et sauvegardé en 69.68 secondes.\n",
      "Batch 75 traité et sauvegardé en 68.42 secondes.\n",
      "Batch 76 traité et sauvegardé en 68.42 secondes.\n",
      "Batch 77 traité et sauvegardé en 68.68 secondes.\n",
      "Batch 78 traité et sauvegardé en 69.19 secondes.\n",
      "Batch 79 traité et sauvegardé en 71.88 secondes.\n",
      "Batch 80 traité et sauvegardé en 69.97 secondes.\n",
      "DataFrame nettoyé et sauvegardé par lot dans ..\\data\\cleaned_data_with_text_for_models.csv.\n"
     ]
    }
   ],
   "execution_count": 178
  }
 ],
 "metadata": {
  "kernelspec": {
   "display_name": "Python 3",
   "language": "python",
   "name": "python3"
  },
  "language_info": {
   "codemirror_mode": {
    "name": "ipython",
    "version": 2
   },
   "file_extension": ".py",
   "mimetype": "text/x-python",
   "name": "python",
   "nbconvert_exporter": "python",
   "pygments_lexer": "ipython2",
   "version": "2.7.6"
  }
 },
 "nbformat": 4,
 "nbformat_minor": 5
}
